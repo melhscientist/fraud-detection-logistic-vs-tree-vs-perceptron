{
 "cells": [
  {
   "cell_type": "markdown",
   "id": "7c3280a7",
   "metadata": {},
   "source": [
    "# 🧠 Práctica Integrada de Clasificación  \n",
    "**Curso:** Aprendizaje Supervisado (Clases 1–13)  \n",
    "**Dataset:** `FraudeCanastas.csv`  \n",
    "\n",
    "### 🎯 Objetivo\n",
    "Aplicar el flujo completo de un problema de **clasificación supervisada** con los modelos vistos en clase.  \n",
    "\n",
    "**Fases:**\n",
    "1️⃣ Lectura del dataset  \n",
    "2️⃣ EDA (Exploración de Datos)  \n",
    "3️⃣ Preparación de Datos  \n",
    "4️⃣ Elección de Modelo  \n",
    "5️⃣ Entrenamiento y Prueba  \n",
    "6️⃣ Evaluación del Modelo  \n",
    "\n",
    "---"
   ]
  },
  {
   "cell_type": "markdown",
   "id": "54463bb5",
   "metadata": {},
   "source": [
    "## 🧩 Paso 1. Lectura del Dataset"
   ]
  },
  {
   "cell_type": "code",
   "execution_count": null,
   "id": "ef2efb30",
   "metadata": {},
   "outputs": [],
   "source": [
    "import pandas as pd\n",
    "\n",
    "# Ruta del archivo\n",
    "DATA_PATH = '/mnt/data/FraudeCanastas.csv'\n",
    "\n",
    "# Lectura y vista general\n",
    "df = pd.read_csv(DATA_PATH)\n",
    "print(\"Dimensiones del dataset:\", df.shape)\n",
    "df.head()"
   ]
  },
  {
   "cell_type": "markdown",
   "id": "546fd80e",
   "metadata": {},
   "source": [
    "## 🔍 Paso 2. EDA (Exploración de Datos)"
   ]
  },
  {
   "cell_type": "code",
   "execution_count": null,
   "id": "78a8db4e",
   "metadata": {},
   "outputs": [],
   "source": [
    "# Información general\n",
    "df.info()\n",
    "\n",
    "# Estadísticas básicas\n",
    "df.describe(include='all').T.head(10)"
   ]
  },
  {
   "cell_type": "code",
   "execution_count": null,
   "id": "64fd24af",
   "metadata": {},
   "outputs": [],
   "source": [
    "# Distribución de clases\n",
    "import seaborn as sns\n",
    "import matplotlib.pyplot as plt\n",
    "\n",
    "target_col = 'fraud_flag'\n",
    "sns.countplot(x=target_col, data=df)\n",
    "plt.title('Distribución de clases (fraude vs no fraude)')\n",
    "plt.show()\n",
    "\n",
    "# Revisión de nulos\n",
    "df.isnull().sum().sort_values(ascending=False).head(10)"
   ]
  },
  {
   "cell_type": "markdown",
   "id": "487f41bc",
   "metadata": {},
   "source": [
    "## 🧰 Paso 3. Preparación de Datos"
   ]
  },
  {
   "cell_type": "code",
   "execution_count": null,
   "id": "ae603c56",
   "metadata": {},
   "outputs": [],
   "source": [
    "from sklearn.model_selection import train_test_split\n",
    "from sklearn.preprocessing import OneHotEncoder, StandardScaler\n",
    "from sklearn.compose import ColumnTransformer\n",
    "\n",
    "id_col = 'ID'\n",
    "target_col = 'fraud_flag'\n",
    "\n",
    "# Separar features y target\n",
    "X = df.drop(columns=[target_col, id_col])\n",
    "y = df[target_col]\n",
    "\n",
    "# División en entrenamiento y prueba (estratificada)\n",
    "X_train, X_test, y_train, y_test = train_test_split(\n",
    "    X, y, test_size=0.2, stratify=y, random_state=42\n",
    ")\n",
    "\n",
    "# Identificación de tipos de variables\n",
    "cat_cols = [c for c in X_train.columns if X_train[c].dtype == 'object']\n",
    "num_cols = [c for c in X_train.columns if X_train[c].dtype != 'object']\n",
    "\n",
    "print(f\"Variables categóricas: {len(cat_cols)} | Variables numéricas: {len(num_cols)}\")\n",
    "\n",
    "# Preprocesador\n",
    "preprocessor = ColumnTransformer([\n",
    "    ('cat', OneHotEncoder(handle_unknown='ignore', min_frequency=10), cat_cols),\n",
    "    ('num', StandardScaler(), num_cols)\n",
    "])\n"
   ]
  },
  {
   "cell_type": "markdown",
   "id": "a17459c8",
   "metadata": {},
   "source": [
    "## ⚙️ Paso 4. Elección del Modelo"
   ]
  },
  {
   "cell_type": "markdown",
   "id": "443f3cbd",
   "metadata": {},
   "source": [
    "\n",
    "Selecciona **uno de los modelos vistos en clase** y justifica tu elección:\n",
    "\n",
    "- **Perceptrón:** separador lineal (Clases 2–4).  \n",
    "- **Árbol de Decisión:** reglas tipo *if–else*, basado en entropía o Gini (Clases 6–8).  \n",
    "- **Regresión Logística:** clasificación probabilística con regularización (Clases 10–13).  \n"
   ]
  },
  {
   "cell_type": "code",
   "execution_count": null,
   "id": "79be22ef",
   "metadata": {},
   "outputs": [],
   "source": [
    "from sklearn.linear_model import Perceptron, LogisticRegression\n",
    "from sklearn.tree import DecisionTreeClassifier\n",
    "from sklearn.pipeline import Pipeline\n",
    "\n",
    "# Selección del modelo\n",
    "modelo = 'logistica'  # opciones: 'perceptron', 'arbol', 'logistica'\n",
    "\n",
    "if modelo == 'perceptron':\n",
    "    clf = Perceptron(class_weight='balanced', max_iter=1000, random_state=42)\n",
    "elif modelo == 'arbol':\n",
    "    clf = DecisionTreeClassifier(criterion='entropy', class_weight='balanced',\n",
    "                                 min_samples_leaf=50, random_state=42)\n",
    "else:\n",
    "    clf = LogisticRegression(class_weight='balanced', max_iter=3000, solver='liblinear', random_state=42)\n",
    "\n",
    "pipe = Pipeline([('prep', preprocessor), ('model', clf)])\n",
    "pipe"
   ]
  },
  {
   "cell_type": "markdown",
   "id": "dd0efd9f",
   "metadata": {},
   "source": [
    "## 🧮 Paso 5. Entrenamiento y Prueba"
   ]
  },
  {
   "cell_type": "code",
   "execution_count": null,
   "id": "fccce202",
   "metadata": {},
   "outputs": [],
   "source": [
    "# Entrenamiento\n",
    "pipe.fit(X_train, y_train)\n",
    "\n",
    "# Predicciones\n",
    "y_pred = pipe.predict(X_test)\n",
    "\n",
    "# Probabilidades (si aplica)\n",
    "if hasattr(pipe, 'predict_proba'):\n",
    "    y_proba = pipe.predict_proba(X_test)[:, 1]\n",
    "else:\n",
    "    y_proba = None\n",
    "\n",
    "print(\"Entrenamiento y predicción completados.\")"
   ]
  },
  {
   "cell_type": "markdown",
   "id": "3d301d62",
   "metadata": {},
   "source": [
    "## 📊 Paso 6. Evaluación del Modelo"
   ]
  },
  {
   "cell_type": "code",
   "execution_count": null,
   "id": "949e73f3",
   "metadata": {},
   "outputs": [],
   "source": [
    "from sklearn.metrics import confusion_matrix, ConfusionMatrixDisplay, classification_report, roc_auc_score, roc_curve\n",
    "\n",
    "# Matriz de confusión\n",
    "cm = confusion_matrix(y_test, y_pred)\n",
    "ConfusionMatrixDisplay(cm).plot(cmap='Blues')\n",
    "plt.title('Matriz de Confusión')\n",
    "plt.show()\n",
    "\n",
    "# Métricas principales\n",
    "print(classification_report(y_test, y_pred))\n",
    "\n",
    "# ROC-AUC\n",
    "if y_proba is not None:\n",
    "    auc = roc_auc_score(y_test, y_proba)\n",
    "    fpr, tpr, _ = roc_curve(y_test, y_proba)\n",
    "    plt.plot(fpr, tpr, label=f'AUC = {auc:.3f}')\n",
    "    plt.plot([0,1],[0,1],'--', color='gray')\n",
    "    plt.xlabel('False Positive Rate')\n",
    "    plt.ylabel('True Positive Rate')\n",
    "    plt.legend()\n",
    "    plt.title('Curva ROC')\n",
    "    plt.show()\n",
    "else:\n",
    "    print(\"El modelo no genera probabilidades.\")"
   ]
  },
  {
   "cell_type": "markdown",
   "id": "0926f77e",
   "metadata": {},
   "source": [
    "## 🧾 Conclusión Final"
   ]
  },
  {
   "cell_type": "markdown",
   "id": "7b296d3c",
   "metadata": {},
   "source": [
    "\n",
    "- ¿Qué modelo elegiste y por qué?  \n",
    "- ¿Qué métricas fueron las más relevantes?  \n",
    "- ¿Cuál fue el principal tipo de error (FP/FN)?  \n",
    "- ¿Cómo podrías mejorar el desempeño del modelo?  \n"
   ]
  }
 ],
 "metadata": {
  "kernelspec": {
   "display_name": "Python 3",
   "language": "python",
   "name": "python3"
  }
 },
 "nbformat": 4,
 "nbformat_minor": 5
}
